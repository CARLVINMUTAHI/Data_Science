{
  "nbformat": 4,
  "nbformat_minor": 0,
  "metadata": {
    "colab": {
      "name": "Github dataset.ipynb",
      "provenance": [],
      "collapsed_sections": [],
      "authorship_tag": "ABX9TyMBHrHOMx00yDLC7CenQDER",
      "include_colab_link": true
    },
    "kernelspec": {
      "name": "python3",
      "display_name": "Python 3"
    }
  },
  "cells": [
    {
      "cell_type": "markdown",
      "metadata": {
        "id": "view-in-github",
        "colab_type": "text"
      },
      "source": [
        "<a href=\"https://colab.research.google.com/github/CARLVINMUTAHI/Data_Science/blob/main/Github_dataset.ipynb\" target=\"_parent\"><img src=\"https://colab.research.google.com/assets/colab-badge.svg\" alt=\"Open In Colab\"/></a>"
      ]
    },
    {
      "cell_type": "markdown",
      "metadata": {
        "id": "pJrY65fwU5wS"
      },
      "source": [
        "**Import the necessary libraries**"
      ]
    },
    {
      "cell_type": "code",
      "metadata": {
        "id": "rfM_0sl6S9MA"
      },
      "source": [
        "import pandas as pd"
      ],
      "execution_count": 1,
      "outputs": []
    },
    {
      "cell_type": "markdown",
      "metadata": {
        "id": "l-nP6bAPVByl"
      },
      "source": [
        "**Import the dataset from this address**"
      ]
    },
    {
      "cell_type": "code",
      "metadata": {
        "id": "1zSbYmThUjlm"
      },
      "source": [
        "url = 'https://raw.githubusercontent.com/justmarkham/DAT8/master/data/u.user'\n",
        "users = pd.read_csv(url,sep='|',index_col='user_id')\n"
      ],
      "execution_count": 7,
      "outputs": []
    },
    {
      "cell_type": "code",
      "metadata": {
        "colab": {
          "base_uri": "https://localhost:8080/",
          "height": 232
        },
        "id": "iBJseagz7NkD",
        "outputId": "8c90fa64-b537-4423-e85e-531743437132"
      },
      "source": [
        "users.head()"
      ],
      "execution_count": 8,
      "outputs": [
        {
          "output_type": "execute_result",
          "data": {
            "text/html": [
              "<div>\n",
              "<style scoped>\n",
              "    .dataframe tbody tr th:only-of-type {\n",
              "        vertical-align: middle;\n",
              "    }\n",
              "\n",
              "    .dataframe tbody tr th {\n",
              "        vertical-align: top;\n",
              "    }\n",
              "\n",
              "    .dataframe thead th {\n",
              "        text-align: right;\n",
              "    }\n",
              "</style>\n",
              "<table border=\"1\" class=\"dataframe\">\n",
              "  <thead>\n",
              "    <tr style=\"text-align: right;\">\n",
              "      <th></th>\n",
              "      <th>age</th>\n",
              "      <th>gender</th>\n",
              "      <th>occupation</th>\n",
              "      <th>zip_code</th>\n",
              "    </tr>\n",
              "    <tr>\n",
              "      <th>user_id</th>\n",
              "      <th></th>\n",
              "      <th></th>\n",
              "      <th></th>\n",
              "      <th></th>\n",
              "    </tr>\n",
              "  </thead>\n",
              "  <tbody>\n",
              "    <tr>\n",
              "      <th>1</th>\n",
              "      <td>24</td>\n",
              "      <td>M</td>\n",
              "      <td>technician</td>\n",
              "      <td>85711</td>\n",
              "    </tr>\n",
              "    <tr>\n",
              "      <th>2</th>\n",
              "      <td>53</td>\n",
              "      <td>F</td>\n",
              "      <td>other</td>\n",
              "      <td>94043</td>\n",
              "    </tr>\n",
              "    <tr>\n",
              "      <th>3</th>\n",
              "      <td>23</td>\n",
              "      <td>M</td>\n",
              "      <td>writer</td>\n",
              "      <td>32067</td>\n",
              "    </tr>\n",
              "    <tr>\n",
              "      <th>4</th>\n",
              "      <td>24</td>\n",
              "      <td>M</td>\n",
              "      <td>technician</td>\n",
              "      <td>43537</td>\n",
              "    </tr>\n",
              "    <tr>\n",
              "      <th>5</th>\n",
              "      <td>33</td>\n",
              "      <td>F</td>\n",
              "      <td>other</td>\n",
              "      <td>15213</td>\n",
              "    </tr>\n",
              "  </tbody>\n",
              "</table>\n",
              "</div>"
            ],
            "text/plain": [
              "         age gender  occupation zip_code\n",
              "user_id                                 \n",
              "1         24      M  technician    85711\n",
              "2         53      F       other    94043\n",
              "3         23      M      writer    32067\n",
              "4         24      M  technician    43537\n",
              "5         33      F       other    15213"
            ]
          },
          "metadata": {
            "tags": []
          },
          "execution_count": 8
        }
      ]
    },
    {
      "cell_type": "markdown",
      "metadata": {
        "id": "UfYG7NYWVFVn"
      },
      "source": [
        "**Discover what is the mean age per occupation**"
      ]
    },
    {
      "cell_type": "code",
      "metadata": {
        "colab": {
          "base_uri": "https://localhost:8080/"
        },
        "id": "2HtOnBS_Wqb7",
        "outputId": "75cb5675-4b48-4baa-f794-da15bebab20c"
      },
      "source": [
        "users.groupby('occupation')['age'].mean()"
      ],
      "execution_count": 9,
      "outputs": [
        {
          "output_type": "execute_result",
          "data": {
            "text/plain": [
              "occupation\n",
              "administrator    38.746835\n",
              "artist           31.392857\n",
              "doctor           43.571429\n",
              "educator         42.010526\n",
              "engineer         36.388060\n",
              "entertainment    29.222222\n",
              "executive        38.718750\n",
              "healthcare       41.562500\n",
              "homemaker        32.571429\n",
              "lawyer           36.750000\n",
              "librarian        40.000000\n",
              "marketing        37.615385\n",
              "none             26.555556\n",
              "other            34.523810\n",
              "programmer       33.121212\n",
              "retired          63.071429\n",
              "salesman         35.666667\n",
              "scientist        35.548387\n",
              "student          22.081633\n",
              "technician       33.148148\n",
              "writer           36.311111\n",
              "Name: age, dtype: float64"
            ]
          },
          "metadata": {
            "tags": []
          },
          "execution_count": 9
        }
      ]
    },
    {
      "cell_type": "markdown",
      "metadata": {
        "id": "V4RY52obhrjV"
      },
      "source": [
        "**Discover the Male ratio per occupation and sort it from the most to the least**"
      ]
    },
    {
      "cell_type": "code",
      "metadata": {
        "colab": {
          "base_uri": "https://localhost:8080/"
        },
        "id": "sbufVBov7r0U",
        "outputId": "fe39896d-527a-4102-fdd7-11550896d4ea"
      },
      "source": [
        "def gender2sum(x):\n",
        "  if x == 'M':\n",
        "    return 1\n",
        "    if x== 'F':\n",
        "       return 0\n",
        "users['gender_n'] = users['gender'].apply(gender2sum)\n",
        "a = users.groupby('occupation')['gender_n'].sum() / users.occupation.value_counts() * 100\n",
        "a.sort_values(ascending=True)"
      ],
      "execution_count": 20,
      "outputs": [
        {
          "output_type": "execute_result",
          "data": {
            "text/plain": [
              "homemaker         14.285714\n",
              "healthcare        31.250000\n",
              "librarian         43.137255\n",
              "artist            53.571429\n",
              "administrator     54.430380\n",
              "none              55.555556\n",
              "writer            57.777778\n",
              "marketing         61.538462\n",
              "other             65.714286\n",
              "student           69.387755\n",
              "educator          72.631579\n",
              "salesman          75.000000\n",
              "lawyer            83.333333\n",
              "entertainment     88.888889\n",
              "scientist         90.322581\n",
              "executive         90.625000\n",
              "programmer        90.909091\n",
              "retired           92.857143\n",
              "technician        96.296296\n",
              "engineer          97.014925\n",
              "doctor           100.000000\n",
              "dtype: float64"
            ]
          },
          "metadata": {
            "tags": []
          },
          "execution_count": 20
        }
      ]
    },
    {
      "cell_type": "markdown",
      "metadata": {
        "id": "X3aDZMTxQ3Ft"
      },
      "source": [
        "**For each occupation, calculate the minimum and maximum ages**"
      ]
    },
    {
      "cell_type": "code",
      "metadata": {
        "colab": {
          "base_uri": "https://localhost:8080/",
          "height": 723
        },
        "id": "fEgaeNg8Q-Gl",
        "outputId": "aeb0e0d9-05c0-45a3-b6f9-17412abca4a6"
      },
      "source": [
        "users.groupby('occupation')['age'].agg(['min','max'])"
      ],
      "execution_count": 21,
      "outputs": [
        {
          "output_type": "execute_result",
          "data": {
            "text/html": [
              "<div>\n",
              "<style scoped>\n",
              "    .dataframe tbody tr th:only-of-type {\n",
              "        vertical-align: middle;\n",
              "    }\n",
              "\n",
              "    .dataframe tbody tr th {\n",
              "        vertical-align: top;\n",
              "    }\n",
              "\n",
              "    .dataframe thead th {\n",
              "        text-align: right;\n",
              "    }\n",
              "</style>\n",
              "<table border=\"1\" class=\"dataframe\">\n",
              "  <thead>\n",
              "    <tr style=\"text-align: right;\">\n",
              "      <th></th>\n",
              "      <th>min</th>\n",
              "      <th>max</th>\n",
              "    </tr>\n",
              "    <tr>\n",
              "      <th>occupation</th>\n",
              "      <th></th>\n",
              "      <th></th>\n",
              "    </tr>\n",
              "  </thead>\n",
              "  <tbody>\n",
              "    <tr>\n",
              "      <th>administrator</th>\n",
              "      <td>21</td>\n",
              "      <td>70</td>\n",
              "    </tr>\n",
              "    <tr>\n",
              "      <th>artist</th>\n",
              "      <td>19</td>\n",
              "      <td>48</td>\n",
              "    </tr>\n",
              "    <tr>\n",
              "      <th>doctor</th>\n",
              "      <td>28</td>\n",
              "      <td>64</td>\n",
              "    </tr>\n",
              "    <tr>\n",
              "      <th>educator</th>\n",
              "      <td>23</td>\n",
              "      <td>63</td>\n",
              "    </tr>\n",
              "    <tr>\n",
              "      <th>engineer</th>\n",
              "      <td>22</td>\n",
              "      <td>70</td>\n",
              "    </tr>\n",
              "    <tr>\n",
              "      <th>entertainment</th>\n",
              "      <td>15</td>\n",
              "      <td>50</td>\n",
              "    </tr>\n",
              "    <tr>\n",
              "      <th>executive</th>\n",
              "      <td>22</td>\n",
              "      <td>69</td>\n",
              "    </tr>\n",
              "    <tr>\n",
              "      <th>healthcare</th>\n",
              "      <td>22</td>\n",
              "      <td>62</td>\n",
              "    </tr>\n",
              "    <tr>\n",
              "      <th>homemaker</th>\n",
              "      <td>20</td>\n",
              "      <td>50</td>\n",
              "    </tr>\n",
              "    <tr>\n",
              "      <th>lawyer</th>\n",
              "      <td>21</td>\n",
              "      <td>53</td>\n",
              "    </tr>\n",
              "    <tr>\n",
              "      <th>librarian</th>\n",
              "      <td>23</td>\n",
              "      <td>69</td>\n",
              "    </tr>\n",
              "    <tr>\n",
              "      <th>marketing</th>\n",
              "      <td>24</td>\n",
              "      <td>55</td>\n",
              "    </tr>\n",
              "    <tr>\n",
              "      <th>none</th>\n",
              "      <td>11</td>\n",
              "      <td>55</td>\n",
              "    </tr>\n",
              "    <tr>\n",
              "      <th>other</th>\n",
              "      <td>13</td>\n",
              "      <td>64</td>\n",
              "    </tr>\n",
              "    <tr>\n",
              "      <th>programmer</th>\n",
              "      <td>20</td>\n",
              "      <td>63</td>\n",
              "    </tr>\n",
              "    <tr>\n",
              "      <th>retired</th>\n",
              "      <td>51</td>\n",
              "      <td>73</td>\n",
              "    </tr>\n",
              "    <tr>\n",
              "      <th>salesman</th>\n",
              "      <td>18</td>\n",
              "      <td>66</td>\n",
              "    </tr>\n",
              "    <tr>\n",
              "      <th>scientist</th>\n",
              "      <td>23</td>\n",
              "      <td>55</td>\n",
              "    </tr>\n",
              "    <tr>\n",
              "      <th>student</th>\n",
              "      <td>7</td>\n",
              "      <td>42</td>\n",
              "    </tr>\n",
              "    <tr>\n",
              "      <th>technician</th>\n",
              "      <td>21</td>\n",
              "      <td>55</td>\n",
              "    </tr>\n",
              "    <tr>\n",
              "      <th>writer</th>\n",
              "      <td>18</td>\n",
              "      <td>60</td>\n",
              "    </tr>\n",
              "  </tbody>\n",
              "</table>\n",
              "</div>"
            ],
            "text/plain": [
              "               min  max\n",
              "occupation             \n",
              "administrator   21   70\n",
              "artist          19   48\n",
              "doctor          28   64\n",
              "educator        23   63\n",
              "engineer        22   70\n",
              "entertainment   15   50\n",
              "executive       22   69\n",
              "healthcare      22   62\n",
              "homemaker       20   50\n",
              "lawyer          21   53\n",
              "librarian       23   69\n",
              "marketing       24   55\n",
              "none            11   55\n",
              "other           13   64\n",
              "programmer      20   63\n",
              "retired         51   73\n",
              "salesman        18   66\n",
              "scientist       23   55\n",
              "student          7   42\n",
              "technician      21   55\n",
              "writer          18   60"
            ]
          },
          "metadata": {
            "tags": []
          },
          "execution_count": 21
        }
      ]
    },
    {
      "cell_type": "markdown",
      "metadata": {
        "id": "C4AFg5arUzSA"
      },
      "source": [
        "**For each combination of occupation and gender, calculate the mean age**"
      ]
    },
    {
      "cell_type": "code",
      "metadata": {
        "colab": {
          "base_uri": "https://localhost:8080/"
        },
        "id": "5_96DYgqU6G3",
        "outputId": "08186d25-339f-4fc0-c536-29da72354777"
      },
      "source": [
        "users.groupby(['occupation','gender'])['age'].mean()"
      ],
      "execution_count": 22,
      "outputs": [
        {
          "output_type": "execute_result",
          "data": {
            "text/plain": [
              "occupation     gender\n",
              "administrator  F         40.638889\n",
              "               M         37.162791\n",
              "artist         F         30.307692\n",
              "               M         32.333333\n",
              "doctor         M         43.571429\n",
              "educator       F         39.115385\n",
              "               M         43.101449\n",
              "engineer       F         29.500000\n",
              "               M         36.600000\n",
              "entertainment  F         31.000000\n",
              "               M         29.000000\n",
              "executive      F         44.000000\n",
              "               M         38.172414\n",
              "healthcare     F         39.818182\n",
              "               M         45.400000\n",
              "homemaker      F         34.166667\n",
              "               M         23.000000\n",
              "lawyer         F         39.500000\n",
              "               M         36.200000\n",
              "librarian      F         40.000000\n",
              "               M         40.000000\n",
              "marketing      F         37.200000\n",
              "               M         37.875000\n",
              "none           F         36.500000\n",
              "               M         18.600000\n",
              "other          F         35.472222\n",
              "               M         34.028986\n",
              "programmer     F         32.166667\n",
              "               M         33.216667\n",
              "retired        F         70.000000\n",
              "               M         62.538462\n",
              "salesman       F         27.000000\n",
              "               M         38.555556\n",
              "scientist      F         28.333333\n",
              "               M         36.321429\n",
              "student        F         20.750000\n",
              "               M         22.669118\n",
              "technician     F         38.000000\n",
              "               M         32.961538\n",
              "writer         F         37.631579\n",
              "               M         35.346154\n",
              "Name: age, dtype: float64"
            ]
          },
          "metadata": {
            "tags": []
          },
          "execution_count": 22
        }
      ]
    },
    {
      "cell_type": "code",
      "metadata": {
        "id": "Fp6dvdoZVWnS"
      },
      "source": [
        ""
      ],
      "execution_count": null,
      "outputs": []
    }
  ]
}